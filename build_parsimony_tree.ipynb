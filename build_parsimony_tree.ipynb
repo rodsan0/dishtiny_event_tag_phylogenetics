{
 "cells": [
  {
   "cell_type": "code",
   "execution_count": 1,
   "id": "01ac4525",
   "metadata": {},
   "outputs": [],
   "source": [
    "from Bio import Phylo\n",
    "from Bio.Phylo.TreeConstruction import DistanceMatrix, DistanceTreeConstructor\n",
    "from keyname import keyname as kn\n",
    "from matplotlib import colors as mpl_colors\n",
    "from teeplot import teeplot as tp\n",
    "\n",
    "import Bio\n",
    "import alifedata_phyloinformatics_convert as apc\n",
    "import csv\n",
    "import glob\n",
    "import itertools\n",
    "import json\n",
    "import matplotlib.pyplot as plt\n",
    "import matplotlib.font_manager as fm\n",
    "import networkx as nx\n",
    "import numpy as np\n",
    "import pandas as pd\n",
    "import scipy as sci\n",
    "import seaborn as sns\n",
    "import urllib.request as request\n",
    "import io\n",
    "from copy import deepcopy\n",
    "\n",
    "\n",
    "from etlib.SortableTree.SortableTree import SortableTree, find_leaves, to_tril\n",
    "from etlib.PlotTools.PlotTools import enable_pretty_graphing\n",
    "enable_pretty_graphing()"
   ]
  },
  {
   "cell_type": "code",
   "execution_count": 2,
   "id": "682e4844",
   "metadata": {},
   "outputs": [],
   "source": [
    "morphs = {x['stint']: x[' morph'][1:] for x in pd.read_csv('morphs_by_stint.csv').to_dict(orient='records')}\n",
    "matrix = np.loadtxt(\"data/distance_matrix.matrix\")\n",
    "with open(\"data/stint_tags.json\", 'r') as f:\n",
    "    stint_tags = json.loads(f.read())"
   ]
  },
  {
   "cell_type": "code",
   "execution_count": 3,
   "id": "dde6c010",
   "metadata": {},
   "outputs": [],
   "source": [
    "scorer = Phylo.TreeConstruction.ParsimonyScorer()"
   ]
  },
  {
   "cell_type": "code",
   "execution_count": 4,
   "id": "93437acc",
   "metadata": {},
   "outputs": [],
   "source": [
    "searcher = Phylo.TreeConstruction.NNITreeSearcher(scorer)"
   ]
  },
  {
   "cell_type": "code",
   "execution_count": 5,
   "id": "57c12fa9",
   "metadata": {},
   "outputs": [],
   "source": [
    "dm = Bio.Phylo.TreeConstruction.DistanceMatrix(\n",
    "    names=[str(x) for x in range(len(stint_tags))],\n",
    "    matrix=to_tril(matrix.T)\n",
    ")\n",
    "tree = getattr(DistanceTreeConstructor(), 'nj')(dm)"
   ]
  },
  {
   "cell_type": "code",
   "execution_count": 6,
   "id": "bc7141ec",
   "metadata": {},
   "outputs": [],
   "source": [
    "bigtags_per_stint = {}\n",
    "\n",
    "for stint, tags in stint_tags.items():\n",
    "    bigtag = ''.join(bin(x)[2:].zfill(64) for x in tags)\n",
    "    bigtags_per_stint[stint] = bigtag"
   ]
  },
  {
   "cell_type": "code",
   "execution_count": 7,
   "id": "ee3ddc95",
   "metadata": {},
   "outputs": [],
   "source": [
    "align_str = f\"\"\"{len(bigtags_per_stint)} {len(bigtags_per_stint['0'])}\n",
    "\"\"\"\n",
    "\n",
    "for stint, bigtag in bigtags_per_stint.items():\n",
    "    align_str += str(stint).zfill(10) + str(bigtag) + \"\\n\""
   ]
  },
  {
   "cell_type": "code",
   "execution_count": 8,
   "id": "f42d0538",
   "metadata": {},
   "outputs": [],
   "source": [
    "f = io.StringIO(align_str)"
   ]
  },
  {
   "cell_type": "code",
   "execution_count": 9,
   "id": "5708d4b7",
   "metadata": {},
   "outputs": [
    {
     "data": {
      "text/plain": [
       "<<class 'Bio.Align.MultipleSeqAlignment'> instance (101 records of length 2240) at 7f441d878820>"
      ]
     },
     "execution_count": 9,
     "metadata": {},
     "output_type": "execute_result"
    }
   ],
   "source": [
    "from Bio import AlignIO\n",
    "aln = AlignIO.read(f, 'phylip')\n",
    "aln"
   ]
  },
  {
   "cell_type": "code",
   "execution_count": 10,
   "id": "0b33250c",
   "metadata": {},
   "outputs": [],
   "source": [
    "def rename_tree(root):\n",
    "    try:\n",
    "        stint_id = int(root.name)\n",
    "        root.name = str(stint_id).zfill(10)\n",
    "    except (ValueError, TypeError):\n",
    "        pass\n",
    "    for node in root.clades:\n",
    "        rename_tree(node)"
   ]
  },
  {
   "cell_type": "code",
   "execution_count": 11,
   "id": "c50b5ffb",
   "metadata": {},
   "outputs": [],
   "source": [
    "fixed_tree = deepcopy(tree)\n",
    "rename_tree(fixed_tree.clade)"
   ]
  },
  {
   "cell_type": "code",
   "execution_count": 12,
   "id": "a14ec9d6",
   "metadata": {},
   "outputs": [],
   "source": [
    "constructor = Phylo.TreeConstruction.ParsimonyTreeConstructor(searcher, fixed_tree)"
   ]
  },
  {
   "cell_type": "code",
   "execution_count": 13,
   "id": "a26a85a9",
   "metadata": {},
   "outputs": [
    {
     "ename": "KeyboardInterrupt",
     "evalue": "",
     "output_type": "error",
     "traceback": [
      "\u001b[0;31m---------------------------------------------------------------------------\u001b[0m",
      "\u001b[0;31mKeyboardInterrupt\u001b[0m                         Traceback (most recent call last)",
      "Cell \u001b[0;32mIn [13], line 1\u001b[0m\n\u001b[0;32m----> 1\u001b[0m pars_tree \u001b[38;5;241m=\u001b[39m \u001b[43mconstructor\u001b[49m\u001b[38;5;241;43m.\u001b[39;49m\u001b[43mbuild_tree\u001b[49m\u001b[43m(\u001b[49m\u001b[43maln\u001b[49m\u001b[43m)\u001b[49m\n",
      "File \u001b[0;32m~/.local/lib/python3.10/site-packages/Bio/Phylo/TreeConstruction.py:1179\u001b[0m, in \u001b[0;36mParsimonyTreeConstructor.build_tree\u001b[0;34m(self, alignment)\u001b[0m\n\u001b[1;32m   1177\u001b[0m     dtc \u001b[38;5;241m=\u001b[39m DistanceTreeConstructor(DistanceCalculator(\u001b[38;5;124m\"\u001b[39m\u001b[38;5;124midentity\u001b[39m\u001b[38;5;124m\"\u001b[39m), \u001b[38;5;124m\"\u001b[39m\u001b[38;5;124mupgma\u001b[39m\u001b[38;5;124m\"\u001b[39m)\n\u001b[1;32m   1178\u001b[0m     \u001b[38;5;28mself\u001b[39m\u001b[38;5;241m.\u001b[39mstarting_tree \u001b[38;5;241m=\u001b[39m dtc\u001b[38;5;241m.\u001b[39mbuild_tree(alignment)\n\u001b[0;32m-> 1179\u001b[0m \u001b[38;5;28;01mreturn\u001b[39;00m \u001b[38;5;28;43mself\u001b[39;49m\u001b[38;5;241;43m.\u001b[39;49m\u001b[43msearcher\u001b[49m\u001b[38;5;241;43m.\u001b[39;49m\u001b[43msearch\u001b[49m\u001b[43m(\u001b[49m\u001b[38;5;28;43mself\u001b[39;49m\u001b[38;5;241;43m.\u001b[39;49m\u001b[43mstarting_tree\u001b[49m\u001b[43m,\u001b[49m\u001b[43m \u001b[49m\u001b[43malignment\u001b[49m\u001b[43m)\u001b[49m\n",
      "File \u001b[0;32m~/.local/lib/python3.10/site-packages/Bio/Phylo/TreeConstruction.py:870\u001b[0m, in \u001b[0;36mNNITreeSearcher.search\u001b[0;34m(self, starting_tree, alignment)\u001b[0m\n\u001b[1;32m    859\u001b[0m \u001b[38;5;28;01mdef\u001b[39;00m \u001b[38;5;21msearch\u001b[39m(\u001b[38;5;28mself\u001b[39m, starting_tree, alignment):\n\u001b[1;32m    860\u001b[0m     \u001b[38;5;124;03m\"\"\"Implement the TreeSearcher.search method.\u001b[39;00m\n\u001b[1;32m    861\u001b[0m \n\u001b[1;32m    862\u001b[0m \u001b[38;5;124;03m    :Parameters:\u001b[39;00m\n\u001b[0;32m   (...)\u001b[0m\n\u001b[1;32m    868\u001b[0m \n\u001b[1;32m    869\u001b[0m \u001b[38;5;124;03m    \"\"\"\u001b[39;00m\n\u001b[0;32m--> 870\u001b[0m     \u001b[38;5;28;01mreturn\u001b[39;00m \u001b[38;5;28;43mself\u001b[39;49m\u001b[38;5;241;43m.\u001b[39;49m\u001b[43m_nni\u001b[49m\u001b[43m(\u001b[49m\u001b[43mstarting_tree\u001b[49m\u001b[43m,\u001b[49m\u001b[43m \u001b[49m\u001b[43malignment\u001b[49m\u001b[43m)\u001b[49m\n",
      "File \u001b[0;32m~/.local/lib/python3.10/site-packages/Bio/Phylo/TreeConstruction.py:879\u001b[0m, in \u001b[0;36mNNITreeSearcher._nni\u001b[0;34m(self, starting_tree, alignment)\u001b[0m\n\u001b[1;32m    877\u001b[0m temp \u001b[38;5;241m=\u001b[39m best_score\n\u001b[1;32m    878\u001b[0m \u001b[38;5;28;01mfor\u001b[39;00m t \u001b[38;5;129;01min\u001b[39;00m \u001b[38;5;28mself\u001b[39m\u001b[38;5;241m.\u001b[39m_get_neighbors(best_tree):\n\u001b[0;32m--> 879\u001b[0m     score \u001b[38;5;241m=\u001b[39m \u001b[38;5;28;43mself\u001b[39;49m\u001b[38;5;241;43m.\u001b[39;49m\u001b[43mscorer\u001b[49m\u001b[38;5;241;43m.\u001b[39;49m\u001b[43mget_score\u001b[49m\u001b[43m(\u001b[49m\u001b[43mt\u001b[49m\u001b[43m,\u001b[49m\u001b[43m \u001b[49m\u001b[43malignment\u001b[49m\u001b[43m)\u001b[49m\n\u001b[1;32m    880\u001b[0m     \u001b[38;5;28;01mif\u001b[39;00m score \u001b[38;5;241m<\u001b[39m best_score:\n\u001b[1;32m    881\u001b[0m         best_score \u001b[38;5;241m=\u001b[39m score\n",
      "File \u001b[0;32m~/.local/lib/python3.10/site-packages/Bio/Phylo/TreeConstruction.py:1049\u001b[0m, in \u001b[0;36mParsimonyScorer.get_score\u001b[0;34m(self, tree, alignment)\u001b[0m\n\u001b[1;32m   1046\u001b[0m \u001b[38;5;28;01mif\u001b[39;00m \u001b[38;5;129;01mnot\u001b[39;00m \u001b[38;5;28mself\u001b[39m\u001b[38;5;241m.\u001b[39mmatrix:\n\u001b[1;32m   1047\u001b[0m     \u001b[38;5;66;03m# init by mapping terminal clades and states in column_i\u001b[39;00m\n\u001b[1;32m   1048\u001b[0m     clade_states \u001b[38;5;241m=\u001b[39m \u001b[38;5;28mdict\u001b[39m(\u001b[38;5;28mzip\u001b[39m(terms, [{c} \u001b[38;5;28;01mfor\u001b[39;00m c \u001b[38;5;129;01min\u001b[39;00m column_i]))\n\u001b[0;32m-> 1049\u001b[0m     \u001b[38;5;28;01mfor\u001b[39;00m clade \u001b[38;5;129;01min\u001b[39;00m \u001b[43mtree\u001b[49m\u001b[38;5;241;43m.\u001b[39;49m\u001b[43mget_nonterminals\u001b[49m\u001b[43m(\u001b[49m\u001b[43morder\u001b[49m\u001b[38;5;241;43m=\u001b[39;49m\u001b[38;5;124;43m\"\u001b[39;49m\u001b[38;5;124;43mpostorder\u001b[39;49m\u001b[38;5;124;43m\"\u001b[39;49m\u001b[43m)\u001b[49m:\n\u001b[1;32m   1050\u001b[0m         clade_childs \u001b[38;5;241m=\u001b[39m clade\u001b[38;5;241m.\u001b[39mclades\n\u001b[1;32m   1051\u001b[0m         left_state \u001b[38;5;241m=\u001b[39m clade_states[clade_childs[\u001b[38;5;241m0\u001b[39m]]\n",
      "File \u001b[0;32m~/.local/lib/python3.10/site-packages/Bio/Phylo/BaseTree.py:416\u001b[0m, in \u001b[0;36mTreeMixin.get_nonterminals\u001b[0;34m(self, order)\u001b[0m\n\u001b[1;32m    414\u001b[0m \u001b[38;5;28;01mdef\u001b[39;00m \u001b[38;5;21mget_nonterminals\u001b[39m(\u001b[38;5;28mself\u001b[39m, order\u001b[38;5;241m=\u001b[39m\u001b[38;5;124m\"\u001b[39m\u001b[38;5;124mpreorder\u001b[39m\u001b[38;5;124m\"\u001b[39m):\n\u001b[1;32m    415\u001b[0m     \u001b[38;5;124;03m\"\"\"Get a list of all of this tree's nonterminal (internal) nodes.\"\"\"\u001b[39;00m\n\u001b[0;32m--> 416\u001b[0m     \u001b[38;5;28;01mreturn\u001b[39;00m \u001b[38;5;28;43mlist\u001b[39;49m\u001b[43m(\u001b[49m\u001b[38;5;28;43mself\u001b[39;49m\u001b[38;5;241;43m.\u001b[39;49m\u001b[43mfind_clades\u001b[49m\u001b[43m(\u001b[49m\u001b[43mterminal\u001b[49m\u001b[38;5;241;43m=\u001b[39;49m\u001b[38;5;28;43;01mFalse\u001b[39;49;00m\u001b[43m,\u001b[49m\u001b[43m \u001b[49m\u001b[43morder\u001b[49m\u001b[38;5;241;43m=\u001b[39;49m\u001b[43morder\u001b[49m\u001b[43m)\u001b[49m\u001b[43m)\u001b[49m\n",
      "File \u001b[0;32m~/.local/lib/python3.10/site-packages/Bio/Phylo/BaseTree.py:55\u001b[0m, in \u001b[0;36m_postorder_traverse\u001b[0;34m(root, get_children)\u001b[0m\n\u001b[1;32m     52\u001b[0m         \u001b[38;5;28;01myield from\u001b[39;00m dfs(v)\n\u001b[1;32m     53\u001b[0m     \u001b[38;5;28;01myield\u001b[39;00m elem\n\u001b[0;32m---> 55\u001b[0m \u001b[38;5;28;01myield from\u001b[39;00m dfs(root)\n",
      "File \u001b[0;32m~/.local/lib/python3.10/site-packages/Bio/Phylo/BaseTree.py:52\u001b[0m, in \u001b[0;36m_postorder_traverse.<locals>.dfs\u001b[0;34m(elem)\u001b[0m\n\u001b[1;32m     50\u001b[0m \u001b[38;5;28;01mdef\u001b[39;00m \u001b[38;5;21mdfs\u001b[39m(elem):\n\u001b[1;32m     51\u001b[0m     \u001b[38;5;28;01mfor\u001b[39;00m v \u001b[38;5;129;01min\u001b[39;00m get_children(elem):\n\u001b[0;32m---> 52\u001b[0m         \u001b[38;5;28;01myield from\u001b[39;00m dfs(v)\n\u001b[1;32m     53\u001b[0m     \u001b[38;5;28;01myield\u001b[39;00m elem\n",
      "File \u001b[0;32m~/.local/lib/python3.10/site-packages/Bio/Phylo/BaseTree.py:52\u001b[0m, in \u001b[0;36m_postorder_traverse.<locals>.dfs\u001b[0;34m(elem)\u001b[0m\n\u001b[1;32m     50\u001b[0m \u001b[38;5;28;01mdef\u001b[39;00m \u001b[38;5;21mdfs\u001b[39m(elem):\n\u001b[1;32m     51\u001b[0m     \u001b[38;5;28;01mfor\u001b[39;00m v \u001b[38;5;129;01min\u001b[39;00m get_children(elem):\n\u001b[0;32m---> 52\u001b[0m         \u001b[38;5;28;01myield from\u001b[39;00m dfs(v)\n\u001b[1;32m     53\u001b[0m     \u001b[38;5;28;01myield\u001b[39;00m elem\n",
      "    \u001b[0;31m[... skipping similar frames: _postorder_traverse.<locals>.dfs at line 52 (14 times)]\u001b[0m\n",
      "File \u001b[0;32m~/.local/lib/python3.10/site-packages/Bio/Phylo/BaseTree.py:52\u001b[0m, in \u001b[0;36m_postorder_traverse.<locals>.dfs\u001b[0;34m(elem)\u001b[0m\n\u001b[1;32m     50\u001b[0m \u001b[38;5;28;01mdef\u001b[39;00m \u001b[38;5;21mdfs\u001b[39m(elem):\n\u001b[1;32m     51\u001b[0m     \u001b[38;5;28;01mfor\u001b[39;00m v \u001b[38;5;129;01min\u001b[39;00m get_children(elem):\n\u001b[0;32m---> 52\u001b[0m         \u001b[38;5;28;01myield from\u001b[39;00m dfs(v)\n\u001b[1;32m     53\u001b[0m     \u001b[38;5;28;01myield\u001b[39;00m elem\n",
      "File \u001b[0;32m~/.local/lib/python3.10/site-packages/Bio/Phylo/BaseTree.py:53\u001b[0m, in \u001b[0;36m_postorder_traverse.<locals>.dfs\u001b[0;34m(elem)\u001b[0m\n\u001b[1;32m     51\u001b[0m \u001b[38;5;28;01mfor\u001b[39;00m v \u001b[38;5;129;01min\u001b[39;00m get_children(elem):\n\u001b[1;32m     52\u001b[0m     \u001b[38;5;28;01myield from\u001b[39;00m dfs(v)\n\u001b[0;32m---> 53\u001b[0m \u001b[38;5;28;01myield\u001b[39;00m elem\n",
      "\u001b[0;31mKeyboardInterrupt\u001b[0m: "
     ]
    }
   ],
   "source": [
    "pars_tree = constructor.build_tree(aln)"
   ]
  },
  {
   "cell_type": "code",
   "execution_count": null,
   "id": "b51df636",
   "metadata": {},
   "outputs": [],
   "source": [
    "sorted_pars_tree = deepcopy(pars_tree)\n",
    "sorted_pars_tree = SortableTree(sorted_pars_tree.clade)\n",
    "sorted_pars_tree.fix_inner_nodes()\n",
    "sorted_pars_tree.sort_tree(reverse=True)"
   ]
  },
  {
   "cell_type": "code",
   "execution_count": null,
   "id": "70a66fa9",
   "metadata": {},
   "outputs": [],
   "source": [
    "ladderized_pars_tree = deepcopy(sorted_pars_tree)\n",
    "ladderized_pars_tree.ladderize()"
   ]
  },
  {
   "cell_type": "code",
   "execution_count": null,
   "id": "fab72b1e",
   "metadata": {},
   "outputs": [],
   "source": [
    "rerooted_pars_tree = deepcopy(sorted_pars_tree)\n",
    "rerooted_pars_tree.root_with_outgroup({\"name\": \"0000000002\"})\n",
    "rerooted_pars_tree.sort_tree(reverse=True)"
   ]
  },
  {
   "cell_type": "code",
   "execution_count": null,
   "id": "1ede186a",
   "metadata": {},
   "outputs": [],
   "source": [
    "# store parsimony trees\n",
    "Phylo.write(pars_tree, \"data/parsimony_tree.xml\", \"phyloxml\")\n",
    "Phylo.write(sorted_pars_tree, \"data/sorted_parsimony_tree.xml\", \"phyloxml\")\n",
    "Phylo.write(ladderized_pars_tree, \"data/ladderized_parsimony_tree.xml\", \"phyloxml\")\n",
    "Phylo.write(rerooted_pars_tree, \"data/rerooted_parsimony_tree.xml\", \"phyloxml\")"
   ]
  },
  {
   "cell_type": "code",
   "execution_count": null,
   "id": "b8e139c1",
   "metadata": {},
   "outputs": [],
   "source": []
  }
 ],
 "metadata": {
  "kernelspec": {
   "display_name": "Python 3 (ipykernel)",
   "language": "python",
   "name": "python3"
  },
  "language_info": {
   "codemirror_mode": {
    "name": "ipython",
    "version": 3
   },
   "file_extension": ".py",
   "mimetype": "text/x-python",
   "name": "python",
   "nbconvert_exporter": "python",
   "pygments_lexer": "ipython3",
   "version": "3.10.7"
  }
 },
 "nbformat": 4,
 "nbformat_minor": 5
}
