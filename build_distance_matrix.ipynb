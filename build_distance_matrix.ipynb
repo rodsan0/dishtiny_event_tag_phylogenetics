{
 "cells": [
  {
   "cell_type": "code",
   "execution_count": 1,
   "id": "45fffb1a",
   "metadata": {},
   "outputs": [],
   "source": [
    "from Bio import Phylo\n",
    "from Bio.Phylo.TreeConstruction import DistanceMatrix, DistanceTreeConstructor\n",
    "from iterpop import iterpop as ip\n",
    "from keyname import keyname as kn\n",
    "from matplotlib import colors as mpl_colors\n",
    "from teeplot import teeplot as tp\n",
    "\n",
    "import Bio\n",
    "import csv\n",
    "import glob\n",
    "import itertools\n",
    "import json\n",
    "import matplotlib.pyplot as plt\n",
    "import matplotlib.font_manager as fm\n",
    "import networkx as nx\n",
    "import numpy as np\n",
    "import pandas as pd\n",
    "import scipy as sci\n",
    "import seaborn as sns\n",
    "import urllib.request as request\n",
    "\n",
    "from pathlib import Path\n",
    "\n",
    "import json\n",
    "\n",
    "from etlib.PlotTools.PlotTools import enable_pretty_graphing\n",
    "enable_pretty_graphing()"
   ]
  },
  {
   "cell_type": "markdown",
   "id": "46ea0156",
   "metadata": {},
   "source": [
    "# get data"
   ]
  },
  {
   "cell_type": "code",
   "execution_count": 2,
   "id": "e336549c",
   "metadata": {},
   "outputs": [],
   "source": [
    "filenames = glob.glob(\"dump/stint=*/*/a=genome+criteria=abundance+*thread=0*.json\")"
   ]
  },
  {
   "cell_type": "code",
   "execution_count": 3,
   "id": "f049449e",
   "metadata": {},
   "outputs": [],
   "source": [
    "# todo: store this as a tar gz and upload it to osf !!!!!\n",
    "# then decompress inside temp directory\n",
    "# also push all data and graphs to github"
   ]
  },
  {
   "cell_type": "markdown",
   "id": "f4976c16",
   "metadata": {},
   "source": [
    "# preprocess data"
   ]
  },
  {
   "cell_type": "code",
   "execution_count": 4,
   "id": "3bf1ffba",
   "metadata": {},
   "outputs": [
    {
     "name": "stdout",
     "output_type": "stream",
     "text": [
      "num tags 35\n"
     ]
    }
   ],
   "source": [
    "stint_tags = {}\n",
    "tag_nums = set()  # for logging\n",
    "for filename in filenames:\n",
    "    file_data = kn.unpack(filename)\n",
    "    with open(filename, 'r') as file:\n",
    "        data = json.load(file)\n",
    "        data = data['value0']['event_tags']['tags']\n",
    "        tags = [v['value0']['value0'] for k, v in data.items()]\n",
    "        tag_nums.add(len(tags))\n",
    "        stint_tags[file_data['stint']] = tags\n",
    "stint_tags = {int(k): v for k, v in stint_tags.items()}\n",
    "stint_tags = dict(sorted(stint_tags.items()))\n",
    "del stint_tags[101]\n",
    "del stint_tags[102]\n",
    "\n",
    "print(\"num tags\", ip.popsingleton(tag_nums))\n"
   ]
  },
  {
   "cell_type": "markdown",
   "id": "c9022264",
   "metadata": {},
   "source": [
    "# generate distance matrix"
   ]
  },
  {
   "cell_type": "markdown",
   "id": "a4a33bac",
   "metadata": {},
   "source": [
    "## we're using hamming distance"
   ]
  },
  {
   "cell_type": "code",
   "execution_count": 5,
   "id": "da55af61",
   "metadata": {},
   "outputs": [],
   "source": [
    "def hamming_distance(a, b):\n",
    "    return (a ^ b).bit_count()"
   ]
  },
  {
   "cell_type": "markdown",
   "id": "193b29ab",
   "metadata": {},
   "source": [
    "## calculate all pairwise distances and store them in the matrix"
   ]
  },
  {
   "cell_type": "code",
   "execution_count": 6,
   "id": "4a3b1202",
   "metadata": {},
   "outputs": [],
   "source": [
    "matrix = np.zeros((len(stint_tags), len(stint_tags)))\n",
    "pairwise = itertools.combinations(list(stint_tags.keys()), 2)\n",
    "\n",
    "for a, b in pairwise:\n",
    "    matrix[a][b] = sum(hamming_distance(x, y) for x, y in zip(stint_tags[a], stint_tags[b]))"
   ]
  },
  {
   "cell_type": "markdown",
   "id": "cdfd695f",
   "metadata": {},
   "source": [
    "# store data for later use"
   ]
  },
  {
   "cell_type": "code",
   "execution_count": 7,
   "id": "84f20f0c",
   "metadata": {},
   "outputs": [],
   "source": [
    "# make dir if it doesn't already exist\n",
    "Path(\"data/\").mkdir(exist_ok=True)\n",
    "# save distance matrix as json\n",
    "np.savetxt(\"data/distance_matrix.matrix\", matrix) # store as txt with save_txt\n",
    "# save stint tags\n",
    "with open(\"data/stint_tags.json\", 'w') as f:\n",
    "    f.write(json.dumps(stint_tags, sort_keys=True))"
   ]
  },
  {
   "cell_type": "code",
   "execution_count": 8,
   "id": "749cd25d",
   "metadata": {},
   "outputs": [
    {
     "data": {
      "text/plain": [
       "array([[   0.,  150., 1116., ..., 1110., 1106., 1108.],\n",
       "       [   0.,    0., 1124., ..., 1104., 1100., 1104.],\n",
       "       [   0.,    0.,    0., ...,  488.,  490.,  488.],\n",
       "       ...,\n",
       "       [   0.,    0.,    0., ...,    0.,   12.,   10.],\n",
       "       [   0.,    0.,    0., ...,    0.,    0.,   10.],\n",
       "       [   0.,    0.,    0., ...,    0.,    0.,    0.]])"
      ]
     },
     "execution_count": 8,
     "metadata": {},
     "output_type": "execute_result"
    }
   ],
   "source": [
    "matrix"
   ]
  },
  {
   "cell_type": "code",
   "execution_count": null,
   "id": "c29f0354",
   "metadata": {},
   "outputs": [],
   "source": []
  }
 ],
 "metadata": {
  "kernelspec": {
   "display_name": "Python 3 (ipykernel)",
   "language": "python",
   "name": "python3"
  },
  "language_info": {
   "codemirror_mode": {
    "name": "ipython",
    "version": 3
   },
   "file_extension": ".py",
   "mimetype": "text/x-python",
   "name": "python",
   "nbconvert_exporter": "python",
   "pygments_lexer": "ipython3",
   "version": "3.10.7"
  }
 },
 "nbformat": 4,
 "nbformat_minor": 5
}
